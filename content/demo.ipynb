{
  "metadata": {
    "language_info": {
      "file_extension": ".py",
      "mimetype": "text/x-python",
      "name": "python",
      "version": "3.10.2"
    },
    "kernelspec": {
      "name": "xeus-python",
      "display_name": "Python (XPython)",
      "language": "python"
    }
  },
  "nbformat_minor": 4,
  "nbformat": 4,
  "cells": [
    {
      "cell_type": "markdown",
      "source": "This Jupyter notebook runs on your local computer in a web assembly environment that contains most of the Python API for OpenMC.\n\nCurrent limitations:\n- The OpenMC executable is not included so you can't actually run OpenMC simulations. \n- h5py is also not available in the environment so you can't load h5 cross sections.",
      "metadata": {}
    },
    {
      "cell_type": "code",
      "source": "import openmc  # the first time this is imported it may take a little while.",
      "metadata": {},
      "execution_count": null,
      "outputs": []
    },
    {
      "cell_type": "code",
      "source": "mat1 = openmc.Material()\nmat1.add_nuclide('Li6', 1)\nmat1.set_density('g/cm3', 0.5)\nmat1",
      "metadata": {},
      "execution_count": null,
      "outputs": []
    }
  ]
}