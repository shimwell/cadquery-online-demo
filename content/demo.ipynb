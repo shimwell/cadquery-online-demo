{
  "cells": [
    {
      "attachments": {},
      "cell_type": "markdown",
      "metadata": {},
      "source": [
        "This Jupyter notebook runs on your local computer in a web assembly environment that contains most of the Python API for OpenMC.\n",
        "\n",
        "Current limitations:\n",
        "- The OpenMC executable is not included so you can't actually run OpenMC simulations. \n",
        "- h5py is also not available in the environment so you can't load h5 cross sections."
      ]
    },
    {
      "cell_type": "code",
      "execution_count": null,
      "metadata": {},
      "outputs": [],
      "source": [
        "# the first time this is imported it may take a while.\n",
        "import openmc"
      ]
    },
    {
      "cell_type": "code",
      "execution_count": null,
      "metadata": {},
      "outputs": [],
      "source": [
        "mat1 = openmc.Material()\n",
        "mat1.add_nuclide('Li6', 1)\n",
        "mat1.set_density('g/cm3', 0.5)\n",
        "mat1"
      ]
    },
    {
      "cell_type": "code",
      "execution_count": null,
      "metadata": {},
      "outputs": [],
      "source": [
        "\n",
        "# MATERIALS\n",
        "\n",
        "breeder_material = openmc.Material()  # lithium lead chemical equation is Pb84.2Li15.8\n",
        "breeder_material.add_element('Pb', 84.2, percent_type='ao')\n",
        "# 50% enriched lithium 6, natural percentage of lithium 6 is just 7% \n",
        "breeder_material.add_element('Li', 15.8, percent_type='ao', enrichment=50.0, enrichment_target='Li6', enrichment_type='ao')\n",
        "# we set density using atoms per b-cm units as then when the enrichment changes the dnesity in these units stays the same.\n",
        "# It equates to around 11 g/cm3\n",
        "breeder_material.set_density('atom/b-cm', 3.2720171e-2)\n",
        "\n",
        "\n",
        "steel = openmc.Material()\n",
        "steel.set_density('g/cm3', 7.75)\n",
        "steel.add_element('Fe', 0.95, percent_type='wo')\n",
        "steel.add_element('C', 0.05, percent_type='wo')\n",
        "\n",
        "my_materials = openmc.Materials([breeder_material, steel])\n",
        "\n",
        "\n",
        "# GEOMETRY\n",
        "\n",
        "# surfaces\n",
        "vessel_inner = openmc.Sphere(r=500)\n",
        "first_wall_outer_surface = openmc.Sphere(r=510)\n",
        "breeder_blanket_outer_surface = openmc.Sphere(r=610, boundary_type='vacuum')\n",
        "\n",
        "\n",
        "# cells\n",
        "inner_vessel_region = -vessel_inner\n",
        "inner_vessel_cell = openmc.Cell(region=inner_vessel_region)\n",
        "\n",
        "first_wall_region = -first_wall_outer_surface & +vessel_inner\n",
        "first_wall_cell = openmc.Cell(region=first_wall_region)\n",
        "first_wall_cell.fill = steel\n",
        "\n",
        "breeder_blanket_region = +first_wall_outer_surface & -breeder_blanket_outer_surface\n",
        "breeder_blanket_cell = openmc.Cell(region=breeder_blanket_region)\n",
        "breeder_blanket_cell.fill = breeder_material\n",
        "\n",
        "my_geometry = openmc.Geometry([inner_vessel_cell, first_wall_cell, breeder_blanket_cell])\n",
        "\n",
        "\n",
        "# SIMULATION SETTINGS\n",
        "\n",
        "# Instantiate a Settings object\n",
        "my_settings = openmc.Settings()\n",
        "my_settings.batches = 10\n",
        "my_settings.inactive = 0\n",
        "my_settings.particles = 500\n",
        "my_settings.run_mode = 'fixed source'\n",
        "\n",
        "# Create a DT point source\n",
        "my_source = openmc.IndependentSource()\n",
        "my_source.space = openmc.stats.Point((0, 0, 0))\n",
        "my_source.angle = openmc.stats.Isotropic()\n",
        "my_source.energy = openmc.stats.Discrete([14e6], [1])\n",
        "my_settings.source = my_source\n",
        "\n",
        "\n",
        "# added a cell tally for tritium production\n",
        "cell_filter = openmc.CellFilter(breeder_blanket_cell)\n",
        "tbr_tally = openmc.Tally(name='TBR')\n",
        "tbr_tally.filters = [cell_filter]\n",
        "tbr_tally.scores = ['(n,Xt)']  # Where X is a wildcard character, this catches any tritium production\n",
        "# this allows the tally to be recorded per nuclide so we can see which one contributes to tritium production more\n",
        "tbr_tally.nuclides = ['Li6', 'Li7'] \n",
        "my_tallies = openmc.Tallies([tbr_tally])"
      ]
    },
    {
      "cell_type": "code",
      "execution_count": null,
      "metadata": {},
      "outputs": [],
      "source": [
        "# Run OpenMC!\n",
        "model = openmc.model.Model(my_geometry, my_materials, my_settings, my_tallies)\n",
        "\n",
        "\n",
        "sp_filename = model.run()"
      ]
    }
  ],
  "metadata": {
    "kernelspec": {
      "display_name": "Python (XPython)",
      "language": "python",
      "name": "xeus-python"
    },
    "language_info": {
      "file_extension": ".py",
      "mimetype": "text/x-python",
      "name": "python",
      "version": "3.10.2"
    }
  },
  "nbformat": 4,
  "nbformat_minor": 4
}
